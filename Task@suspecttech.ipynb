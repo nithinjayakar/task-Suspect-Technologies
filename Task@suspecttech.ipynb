{
 "cells": [
  {
   "cell_type": "markdown",
   "metadata": {},
   "source": [
    "# Task provided by suspecttech"
   ]
  },
  {
   "cell_type": "markdown",
   "metadata": {},
   "source": [
    "## Imports required:"
   ]
  },
  {
   "cell_type": "code",
   "execution_count": 3,
   "metadata": {},
   "outputs": [],
   "source": [
    "import numpy as np\n",
    "from keras.layers import Conv2D,Flatten,Dense,Activation\n",
    "from keras.models import Sequential"
   ]
  },
  {
   "cell_type": "markdown",
   "metadata": {},
   "source": [
    "Number of parameters in the convolutional layer is given by<br>\n",
    "filters * kernel_size * kernel_size * dimesion3_of_input + filters <br>\n",
    "\n",
    "If padding = 'same'<br>\n",
    "    height = ceil(float(dimesion1_of_input) / float(stride))<br>\n",
    "    width = ceil(float(dimesion2_of_input) / float(stride))<br>\n",
    "    <br>\n",
    "If padding = 'valid'<br>\n",
    "    height = ceil(float(dimesion1_of_input - kernel_size + 1) / float(stride))<br>\n",
    "    width = ceil(float(dimesion2_of_input - kernel_size + 1) / float(stride))<br>\n",
    "<br>"
   ]
  },
  {
   "cell_type": "code",
   "execution_count": 4,
   "metadata": {},
   "outputs": [
    {
     "name": "stdout",
     "output_type": "stream",
     "text": [
      "_________________________________________________________________\n",
      "Layer (type)                 Output Shape              Param #   \n",
      "=================================================================\n",
      "conv2d_2 (Conv2D)            (None, 16, 16, 4)         16        \n",
      "_________________________________________________________________\n",
      "activation_3 (Activation)    (None, 16, 16, 4)         0         \n",
      "_________________________________________________________________\n",
      "flatten_2 (Flatten)          (None, 1024)              0         \n",
      "_________________________________________________________________\n",
      "dense_2 (Dense)              (None, 10)                10250     \n",
      "_________________________________________________________________\n",
      "activation_4 (Activation)    (None, 10)                0         \n",
      "=================================================================\n",
      "Total params: 10,266\n",
      "Trainable params: 10,266\n",
      "Non-trainable params: 0\n",
      "_________________________________________________________________\n"
     ]
    }
   ],
   "source": [
    "task_model = Sequential()\n",
    "\n",
    "task_model.add(Conv2D(filters =4,kernel_size=1,strides=2,padding='valid',input_shape=(32,32,3)))\n",
    "task_model.add(Activation('relu'))\n",
    "\n",
    "task_model.add(Flatten())\n",
    "task_model.add(Dense(10))\n",
    "task_model.add(Activation('softmax'))\n",
    "\n",
    "\n",
    "task_model.summary()"
   ]
  },
  {
   "cell_type": "code",
   "execution_count": null,
   "metadata": {},
   "outputs": [],
   "source": []
  }
 ],
 "metadata": {
  "kernelspec": {
   "display_name": "Python 3",
   "language": "python",
   "name": "python3"
  },
  "language_info": {
   "codemirror_mode": {
    "name": "ipython",
    "version": 3
   },
   "file_extension": ".py",
   "mimetype": "text/x-python",
   "name": "python",
   "nbconvert_exporter": "python",
   "pygments_lexer": "ipython3",
   "version": "3.6.3"
  }
 },
 "nbformat": 4,
 "nbformat_minor": 2
}
